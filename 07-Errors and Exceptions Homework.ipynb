{
 "cells": [
  {
   "cell_type": "code",
   "execution_count": 1,
   "metadata": {},
   "outputs": [],
   "source": [
    "# Problem 1\n",
    "# Handle the exception thrown by the code below by using try and except blocks.\n",
    "# for i in ['a','b','c']:\n",
    "#     print(i**2)"
   ]
  },
  {
   "cell_type": "code",
   "execution_count": 18,
   "metadata": {},
   "outputs": [],
   "source": [
    "def problem1():\n",
    "\n",
    "    try:\n",
    "        for i in ['a','b','c']:\n",
    "            print(i**2)\n",
    "    except: \n",
    "        print('Error, unable to perform operation.')\n",
    "    else:\n",
    "        print('Operation worked out.')"
   ]
  },
  {
   "cell_type": "code",
   "execution_count": 19,
   "metadata": {},
   "outputs": [
    {
     "name": "stdout",
     "output_type": "stream",
     "text": [
      "Error, unable to perform operation.\n"
     ]
    }
   ],
   "source": [
    "problem1()"
   ]
  },
  {
   "cell_type": "code",
   "execution_count": 16,
   "metadata": {},
   "outputs": [],
   "source": [
    "# Problem 2\n",
    "# Handle the exception thrown by the code below by using try and except blocks. \n",
    "# Then use a finally block to print 'All Done.'\n",
    "\n",
    "# x = 5\n",
    "# y = 0\n",
    "\n",
    "# z = x/y"
   ]
  },
  {
   "cell_type": "code",
   "execution_count": 1,
   "metadata": {},
   "outputs": [],
   "source": [
    "def problem2():\n",
    "    try:\n",
    "        x = 5\n",
    "        y = 0\n",
    "\n",
    "        z = x/y\n",
    "    except ZeroDivisionError: \n",
    "        print('Error, unable to divide by zero.')\n",
    "    except: \n",
    "        print('Error, unable to perform operation.')\n",
    "    else:\n",
    "        print('Operation worked out.')\n",
    "\n"
   ]
  },
  {
   "cell_type": "code",
   "execution_count": 3,
   "metadata": {},
   "outputs": [
    {
     "name": "stdout",
     "output_type": "stream",
     "text": [
      "Error, unable to divide by zero.\n"
     ]
    }
   ],
   "source": [
    "problem2()"
   ]
  },
  {
   "cell_type": "code",
   "execution_count": null,
   "metadata": {},
   "outputs": [],
   "source": [
    "# Problem 3\n",
    "# Write a function that asks for an integer and prints the square of it. \n",
    "# Use a while loop with a try, except, else block to account for incorrect inputs."
   ]
  },
  {
   "cell_type": "code",
   "execution_count": 21,
   "metadata": {},
   "outputs": [],
   "source": [
    "def ask():\n",
    "    \n",
    "    while True:\n",
    "        try:\n",
    "            num = int(input('Please enter an integer: '))\n",
    "        except:\n",
    "            print('Wrong input, must be integer only.')\n",
    "            print('Try again!')\n",
    "            continue\n",
    "        else:\n",
    "            print('Your number({}), squared is: {}'.format(num,num**2))\n",
    "            break      \n"
   ]
  },
  {
   "cell_type": "code",
   "execution_count": 22,
   "metadata": {},
   "outputs": [
    {
     "name": "stdout",
     "output_type": "stream",
     "text": [
      "Your number(3), squared is: 9\n"
     ]
    }
   ],
   "source": [
    "ask()"
   ]
  },
  {
   "cell_type": "code",
   "execution_count": null,
   "metadata": {},
   "outputs": [],
   "source": []
  }
 ],
 "metadata": {
  "kernelspec": {
   "display_name": "Python 3.10.5 64-bit",
   "language": "python",
   "name": "python3"
  },
  "language_info": {
   "codemirror_mode": {
    "name": "ipython",
    "version": 3
   },
   "file_extension": ".py",
   "mimetype": "text/x-python",
   "name": "python",
   "nbconvert_exporter": "python",
   "pygments_lexer": "ipython3",
   "version": "3.10.5"
  },
  "orig_nbformat": 4,
  "vscode": {
   "interpreter": {
    "hash": "5f7a044013873b01de75f7dc2befd8d09ce258ad3ae674e23e6c4d744f602738"
   }
  }
 },
 "nbformat": 4,
 "nbformat_minor": 2
}
