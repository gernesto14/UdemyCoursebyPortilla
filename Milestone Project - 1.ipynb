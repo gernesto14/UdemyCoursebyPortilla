{
 "cells": [
  {
   "cell_type": "code",
   "execution_count": 5,
   "metadata": {},
   "outputs": [],
   "source": [
    "# PROJECT LOGIC\n",
    "# 1 - Visual graphic tic-tac-toe\n",
    "# 2 - User Input\n",
    "# 3 - Function\n",
    "# 4 - Updates\n",
    "# 5 - New Visual (Continue loop...)\n"
   ]
  },
  {
   "cell_type": "code",
   "execution_count": 6,
   "metadata": {},
   "outputs": [],
   "source": [
    "test_board = ['#','-','-','-','-','-','-','-','-','-']"
   ]
  },
  {
   "cell_type": "code",
   "execution_count": 7,
   "metadata": {},
   "outputs": [],
   "source": [
    "from IPython.display import clear_output\n",
    "\n",
    "# Display board\n",
    "def display_board(board):\n",
    "    \n",
    "    print(\"\\n\")\n",
    "    print('\\t' + '   ' +        '   |  ' + '  ' +         '   |  ')\n",
    "    print('\\t' + '  ' + board[7] + '   |  ' + ' ' + board[8] + '   |   ' + board[9])\n",
    "    print('\\t' + '   ' +        '   |  ' + '  ' +         '   |  ')\n",
    "    print('\\t' + '------|-------|------')\n",
    "\n",
    "    print('\\t' + '   ' +        '   |  ' + '  ' +         '   |  ')\n",
    "    print('\\t' + '  ' + board[4] + '   |  ' + ' ' + board[5] + '   |   ' + board[6])\n",
    "    print('\\t' + '   ' +        '   |  ' + '  ' +         '   |  ')\n",
    "    print('\\t' + '------|-------|------')\n",
    "\n",
    "    print('\\t' + '   ' +        '   |  ' + '  ' +         '   |  ')\n",
    "    print('\\t' + '  ' + board[1] + '   |  ' + ' ' + board[2] + '   |   ' + board[3])\n",
    "    print('\\t' + '   ' +        '   |  ' + '  ' +         '   |  ')\n",
    "  \n",
    "    print(\"\\n\")\n"
   ]
  },
  {
   "cell_type": "code",
   "execution_count": 8,
   "metadata": {},
   "outputs": [],
   "source": [
    "# display_board(test_board)"
   ]
  },
  {
   "cell_type": "code",
   "execution_count": 9,
   "metadata": {},
   "outputs": [],
   "source": [
    "# Take player input\n",
    "def player_input(player,board): # MAKE SURE to SET player when calling function\n",
    "    user_marker = 'wrong'\n",
    "    \n",
    "    XO = player # X or O input for player\n",
    "    while user_marker not in [XO]:\n",
    "        clear_output()\n",
    "        display_board(board)\n",
    "        try:\n",
    "            # Ask question based on X or O player\n",
    "            user_marker = input('Enter marker ({}):'.format(XO))\n",
    "        except ValueError:\n",
    "            print('Wrong input!')\n",
    "    # Return player marker       \n",
    "    return user_marker"
   ]
  },
  {
   "cell_type": "code",
   "execution_count": 10,
   "metadata": {},
   "outputs": [],
   "source": [
    "# Place new marker to board\n",
    "def place_marker(board, marker, position):\n",
    "    # ASSIGN marker to board list \n",
    "    board[position] = marker\n",
    "    \n",
    "    # RETURN UPDATED board list\n",
    "    return board\n",
    "    "
   ]
  },
  {
   "cell_type": "code",
   "execution_count": 11,
   "metadata": {},
   "outputs": [],
   "source": [
    "# place_marker(test_board)"
   ]
  },
  {
   "cell_type": "code",
   "execution_count": 12,
   "metadata": {},
   "outputs": [
    {
     "name": "stdout",
     "output_type": "stream",
     "text": [
      "['#', '-', '-', '-', '-', '-', '-', '-', '-', '-']\n"
     ]
    }
   ],
   "source": [
    "print(test_board)\n"
   ]
  },
  {
   "cell_type": "code",
   "execution_count": 13,
   "metadata": {},
   "outputs": [],
   "source": [
    "# display_board(test_board)"
   ]
  },
  {
   "cell_type": "code",
   "execution_count": 14,
   "metadata": {},
   "outputs": [],
   "source": [
    "# CHECK to see if mark has WON\n",
    "def win_check_mark(board, mark=''):\n",
    "\n",
    "    if board[1] == board[2] == board[3] == mark:\n",
    "        return board[2]\n",
    "    elif board[4] == board[5] == board[6] == mark:\n",
    "        return board[5]\n",
    "    elif board[7] == board[8] == board[9] == mark:\n",
    "        return board[8]\n",
    "    elif board[1] == board[4] == board[7] == mark:\n",
    "        return board[4]\n",
    "    elif board[2] == board[5] == board[8] == mark:\n",
    "        return board[5]\n",
    "    elif board[3] == board[6] == board[9] == mark:\n",
    "        return board[6]\n",
    "    elif board[3] == board[5] == board[7] == mark:\n",
    "        return board[5]\n",
    "    elif board[1] == board[5] == board[9] == mark:\n",
    "        return board[5]\n",
    "    else: # No winners\n",
    "        return False\n",
    "    "
   ]
  },
  {
   "cell_type": "code",
   "execution_count": 15,
   "metadata": {},
   "outputs": [],
   "source": [
    "# print(test_board)"
   ]
  },
  {
   "cell_type": "code",
   "execution_count": 16,
   "metadata": {},
   "outputs": [],
   "source": [
    "# win_check(test_board, 'X')"
   ]
  },
  {
   "cell_type": "code",
   "execution_count": 17,
   "metadata": {},
   "outputs": [],
   "source": [
    "import random\n",
    "# DECIDE wich player goes first\n",
    "def choose_first():\n",
    "    #High range for more odds\n",
    "    x = random.randint(0,6)\n",
    "\n",
    "    if x%2 == 0:\n",
    "        return 'X'\n",
    "    else:\n",
    "        return 'O'"
   ]
  },
  {
   "cell_type": "code",
   "execution_count": 18,
   "metadata": {},
   "outputs": [],
   "source": [
    "# choose_first()"
   ]
  },
  {
   "cell_type": "code",
   "execution_count": 19,
   "metadata": {},
   "outputs": [],
   "source": [
    "# CHECK if SPACE available in specific position\n",
    "def space_check(board, position):\n",
    "\n",
    "    if board[position] not in ['X','O']:\n",
    "        return True # Space is available\n",
    "    else:\n",
    "        return False # Space NOT avialble"
   ]
  },
  {
   "cell_type": "code",
   "execution_count": 20,
   "metadata": {},
   "outputs": [],
   "source": [
    "# space_check(test_board, 1)"
   ]
  },
  {
   "cell_type": "code",
   "execution_count": 21,
   "metadata": {},
   "outputs": [],
   "source": [
    "# CHECK for available spaces in board\n",
    "def full_board_check(board):\n",
    "\n",
    "    for x in board[1:]:\n",
    "        \n",
    "        if x in ['X','O']: # True for no spaces available\n",
    "            continue \n",
    "        elif x not in ['X','O']:\n",
    "            return False \n",
    "    # Board is FULL\n",
    "    return True\n",
    "    \n",
    "    "
   ]
  },
  {
   "cell_type": "code",
   "execution_count": 22,
   "metadata": {},
   "outputs": [],
   "source": [
    "# full_board_check(test_board)"
   ]
  },
  {
   "cell_type": "code",
   "execution_count": 23,
   "metadata": {},
   "outputs": [],
   "source": [
    "from IPython.display import clear_output\n",
    "# ASK player for position\n",
    "\n",
    "def player_choice(board):\n",
    "    \n",
    "    position = 'wrong'\n",
    "    check = False\n",
    "    \n",
    "    # Input must be digit (1-9)\n",
    "    while check == False:\n",
    "        clear_output()\n",
    "        \n",
    "        try:\n",
    "            display_board(board)\n",
    "            position = int(input('Please choose position (1-9)'))\n",
    "            if position in range(1,10):\n",
    "                # Continue if position is taken\n",
    "                check = space_check(board, position)\n",
    "                if check == True:\n",
    "                    return position\n",
    "                elif check == False:\n",
    "                    print('Position taken')\n",
    "                    continue\n",
    "        except ValueError:\n",
    "            print('Wrong input')\n"
   ]
  },
  {
   "cell_type": "code",
   "execution_count": 24,
   "metadata": {},
   "outputs": [],
   "source": [
    "# test1_board = ['#','X','-','X','O','X','O','X','O','X']\n",
    "# player_choice(test1_board)"
   ]
  },
  {
   "cell_type": "code",
   "execution_count": 25,
   "metadata": {},
   "outputs": [],
   "source": [
    "# ASK player if wannna continue playing\n",
    "def replay():\n",
    "    user_input = 'wrong'\n",
    "\n",
    "    while user_input not in ['Y', 'N']:\n",
    "        user_input = input('DO you want to continue playing? (Y or N)')\n",
    "        if user_input == 'Y':\n",
    "            return True\n",
    "        elif user_input == 'N':\n",
    "            return False "
   ]
  },
  {
   "cell_type": "code",
   "execution_count": 26,
   "metadata": {},
   "outputs": [],
   "source": [
    "# replay()"
   ]
  },
  {
   "cell_type": "code",
   "execution_count": 27,
   "metadata": {},
   "outputs": [],
   "source": [
    "# CHECK for X/O Tie or Win\n",
    "def win_check_board(board):\n",
    "\n",
    "    # Check for matches\n",
    "    if board[1] == board[2] == board[3]:\n",
    "        winner = 2\n",
    "    elif board[4] == board[5] == board[6]:\n",
    "        winner = 5\n",
    "    elif board[7] == board[8] == board[9]:\n",
    "        winner = 8\n",
    "    elif board[1] == board[4] == board[7]:\n",
    "        winner = 4\n",
    "    elif board[2] == board[5] == board[8]:\n",
    "        winner = 5\n",
    "    elif board[3] == board[6] == board[9]:\n",
    "        winner = 6\n",
    "    elif board[3] == board[5] == board[7]:\n",
    "        winner = 5\n",
    "    elif board[1] == board[5] == board[9]:\n",
    "        winner = 5\n",
    "    else:\n",
    "        winner = False\n",
    "\n",
    "    # Loop and find winner    \n",
    "    for x in [2,4,5,6,8]:\n",
    "        if x == winner:\n",
    "            return print('{} is the winner'.format(board[winner]))\n",
    "    # No winner   \n",
    "    if winner not in [2,4,5,6,8]: # Tie game \n",
    "        return print('Tie game!')   "
   ]
  },
  {
   "cell_type": "code",
   "execution_count": 28,
   "metadata": {},
   "outputs": [],
   "source": [
    "# Func for single play, same flow\n",
    "from ast import Pass\n",
    "\n",
    "\n",
    "def single_play(board,player):\n",
    "\n",
    "    # Ask player for input X or O\n",
    "    marker = player_input(player,board)\n",
    "    \n",
    "    # Ask player to choose position and check if position is avilable\n",
    "    position = player_choice(board)\n",
    "\n",
    "    # Update board\n",
    "    place_marker(board,marker,position)\n",
    "            \n",
    "    # Check for new position is winning\n",
    "    if win_check_mark(board, marker) == marker:\n",
    "        clear_output()\n",
    "        print('\\n\\t{} is the winner!'.format(marker))        \n",
    "        display_board(board)\n",
    "        return 0\n",
    "    else:\n",
    "        return 1\n"
   ]
  },
  {
   "cell_type": "code",
   "execution_count": 29,
   "metadata": {},
   "outputs": [
    {
     "name": "stdout",
     "output_type": "stream",
     "text": [
      "\n",
      "\tO is the winner!\n",
      "\n",
      "\n",
      "\t      |       |  \n",
      "\t  X   |   O   |   O\n",
      "\t      |       |  \n",
      "\t------|-------|------\n",
      "\t      |       |  \n",
      "\t  X   |   X   |   O\n",
      "\t      |       |  \n",
      "\t------|-------|------\n",
      "\t      |       |  \n",
      "\t  O   |   X   |   O\n",
      "\t      |       |  \n",
      "\n",
      "\n"
     ]
    }
   ],
   "source": [
    "print('Welcome to Tic Tac Toe!')\n",
    "    \n",
    "while True:\n",
    "    board = ['#','-','-','-','-','-','-','-','-','-']\n",
    "    game_replay = True\n",
    "    # First player\n",
    "    first_player = choose_first()\n",
    "    if first_player == 'X':\n",
    "            second_player = 'O'\n",
    "    else:\n",
    "        first_player = 'O'\n",
    "        second_player = 'X'\n",
    "\n",
    "    while game_replay == True:\n",
    "        \n",
    "        # Check if board is full\n",
    "        if full_board_check(board) == True:\n",
    "            print('Board is full')\n",
    "            win_check_board(board) # Check for winner in full board\n",
    "            break\n",
    "        \n",
    "        if single_play(board,first_player) == 0: # Player ONE turn            \n",
    "            break\n",
    "        elif single_play(board,second_player) == 0: # Player TWO turn                 \n",
    "            break\n",
    "        clear_output()\n",
    "        ### Need to work on the display_board when asking user input position\n",
    "        \n",
    "    if not replay():\n",
    "        break\n",
    "   \n"
   ]
  },
  {
   "cell_type": "code",
   "execution_count": null,
   "metadata": {},
   "outputs": [],
   "source": []
  }
 ],
 "metadata": {
  "kernelspec": {
   "display_name": "Python 3.10.5 64-bit",
   "language": "python",
   "name": "python3"
  },
  "language_info": {
   "codemirror_mode": {
    "name": "ipython",
    "version": 3
   },
   "file_extension": ".py",
   "mimetype": "text/x-python",
   "name": "python",
   "nbconvert_exporter": "python",
   "pygments_lexer": "ipython3",
   "version": "3.10.5"
  },
  "orig_nbformat": 4,
  "vscode": {
   "interpreter": {
    "hash": "5f7a044013873b01de75f7dc2befd8d09ce258ad3ae674e23e6c4d744f602738"
   }
  }
 },
 "nbformat": 4,
 "nbformat_minor": 2
}
