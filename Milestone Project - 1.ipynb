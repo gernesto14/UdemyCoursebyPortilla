{
 "cells": [
  {
   "cell_type": "code",
   "execution_count": 115,
   "metadata": {},
   "outputs": [],
   "source": [
    "# PROJECT LOGIC\n",
    "# 1 - Visual graphic tic-tac-toe\n",
    "# 2 - User Input\n",
    "# 3 - Function\n",
    "# 4 - Updates\n",
    "# 5 - New Visual (Continue loop...)\n"
   ]
  },
  {
   "cell_type": "code",
   "execution_count": 135,
   "metadata": {},
   "outputs": [],
   "source": [
    "test_board = ['#','X','O','X','O','@','O','X','O','X']"
   ]
  },
  {
   "cell_type": "code",
   "execution_count": 136,
   "metadata": {},
   "outputs": [],
   "source": [
    "from IPython.display import clear_output\n",
    "# #Test raw \n",
    "# testraw = 'X'\n",
    "\n",
    "# # Raw #3\n",
    "# raw10 = '10'\n",
    "# raw11 = '11'\n",
    "# raw12 = '12' \n",
    "\n",
    "# # Raw #2\n",
    "# raw20 = '20'\n",
    "# raw21 = '21'\n",
    "# raw22 = '22'\n",
    "\n",
    "# # Raw #3\n",
    "# raw30 = '30'\n",
    "# raw31 = '31'\n",
    "# raw32 = '32'\n",
    "\n",
    "# Display board\n",
    "def display_board(board):\n",
    "    #Clear screen\n",
    "    clear_output()\n",
    "    \n",
    "    print(\"\\n\")\n",
    "    print('\\t' + '   ' +        '   |  ' + '  ' +         '   |  ')\n",
    "    print('\\t' + '  ' + board[7] + '   |  ' + ' ' + board[8] + '   |   ' + board[9])\n",
    "    print('\\t' + '   ' +        '   |  ' + '  ' +         '   |  ')\n",
    "    print('\\t' + '------|-------|------')\n",
    "\n",
    "    print('\\t' + '   ' +        '   |  ' + '  ' +         '   |  ')\n",
    "    print('\\t' + '  ' + board[4] + '   |  ' + ' ' + board[5] + '   |   ' + board[6])\n",
    "    print('\\t' + '   ' +        '   |  ' + '  ' +         '   |  ')\n",
    "    print('\\t' + '------|-------|------')\n",
    "\n",
    "    print('\\t' + '   ' +        '   |  ' + '  ' +         '   |  ')\n",
    "    print('\\t' + '  ' + board[1] + '   |  ' + ' ' + board[2] + '   |   ' + board[3])\n",
    "    print('\\t' + '   ' +        '   |  ' + '  ' +         '   |  ')\n",
    "  \n",
    "    print(\"\\n\")\n"
   ]
  },
  {
   "cell_type": "code",
   "execution_count": 137,
   "metadata": {},
   "outputs": [
    {
     "name": "stdout",
     "output_type": "stream",
     "text": [
      "\n",
      "\n",
      "\t      |       |  \n",
      "\t  X   |   O   |   X\n",
      "\t      |       |  \n",
      "\t------|-------|------\n",
      "\t      |       |  \n",
      "\t  O   |   @   |   O\n",
      "\t      |       |  \n",
      "\t------|-------|------\n",
      "\t      |       |  \n",
      "\t  X   |   O   |   X\n",
      "\t      |       |  \n",
      "\n",
      "\n"
     ]
    }
   ],
   "source": [
    "display_board(test_board)"
   ]
  },
  {
   "cell_type": "code",
   "execution_count": 138,
   "metadata": {},
   "outputs": [],
   "source": [
    "# Take player input\n",
    "def player_input():\n",
    "    user_marker = 'wrong'\n",
    "\n",
    "    while user_marker not in ['X', 'O']:\n",
    "        try:\n",
    "            user_marker = input('Enter marker (X or O):')\n",
    "        except ValueError:\n",
    "            print('Wrong input!')\n",
    "    # Return player marker       \n",
    "    return user_marker\n",
    "\n",
    "    "
   ]
  },
  {
   "cell_type": "code",
   "execution_count": null,
   "metadata": {},
   "outputs": [],
   "source": [
    "\n"
   ]
  },
  {
   "cell_type": "code",
   "execution_count": 139,
   "metadata": {},
   "outputs": [],
   "source": [
    "# Place new marker to board\n",
    "def place_marker(board, marker = '$', position = 8):\n",
    "    # ASSIGN marker to board list \n",
    "    board[position] = marker\n",
    "        \n",
    "    # RETURN UPDATED board list\n",
    "    return test_board\n",
    "    "
   ]
  },
  {
   "cell_type": "code",
   "execution_count": 140,
   "metadata": {},
   "outputs": [
    {
     "data": {
      "text/plain": [
       "['#', 'X', 'O', 'X', 'O', '@', 'O', 'X', '$', 'X']"
      ]
     },
     "execution_count": 140,
     "metadata": {},
     "output_type": "execute_result"
    }
   ],
   "source": [
    "place_marker(test_board)"
   ]
  },
  {
   "cell_type": "code",
   "execution_count": 141,
   "metadata": {},
   "outputs": [
    {
     "name": "stdout",
     "output_type": "stream",
     "text": [
      "['#', 'X', 'O', 'X', 'O', '@', 'O', 'X', '$', 'X']\n"
     ]
    }
   ],
   "source": [
    "print(test_board)\n"
   ]
  },
  {
   "cell_type": "code",
   "execution_count": 142,
   "metadata": {},
   "outputs": [
    {
     "name": "stdout",
     "output_type": "stream",
     "text": [
      "\n",
      "\n",
      "\t      |       |  \n",
      "\t  X   |   $   |   X\n",
      "\t      |       |  \n",
      "\t------|-------|------\n",
      "\t      |       |  \n",
      "\t  O   |   @   |   O\n",
      "\t      |       |  \n",
      "\t------|-------|------\n",
      "\t      |       |  \n",
      "\t  X   |   O   |   X\n",
      "\t      |       |  \n",
      "\n",
      "\n"
     ]
    }
   ],
   "source": [
    "display_board(test_board)"
   ]
  },
  {
   "cell_type": "code",
   "execution_count": 146,
   "metadata": {},
   "outputs": [],
   "source": [
    "# CHECK to see if mark has WON\n",
    "def win_check(board, mark=''):\n",
    "\n",
    "    if board[1] == board[2] == board[3] == mark:\n",
    "        return True\n",
    "    elif board[3] == board[4] == board[5] == mark:\n",
    "        return True\n",
    "    elif board[7] == board[8] == board[9] == mark:\n",
    "        return True\n",
    "    elif board[1] == board[4] == board[7] == mark:\n",
    "        return True\n",
    "    elif board[2] == board[5] == board[8] == mark:\n",
    "        return True\n",
    "    elif board[3] == board[6] == board[9] == mark:\n",
    "        return True\n",
    "    elif board[3] == board[5] == board[7] == mark:\n",
    "        return True\n",
    "    elif board[1] == board[5] == board[9] == mark:\n",
    "        return True\n",
    "    # No winners\n",
    "    else:\n",
    "        return False\n",
    "    "
   ]
  },
  {
   "cell_type": "code",
   "execution_count": 147,
   "metadata": {},
   "outputs": [
    {
     "name": "stdout",
     "output_type": "stream",
     "text": [
      "['#', 'X', 'O', 'X', 'O', '@', 'O', 'X', '$', 'X']\n"
     ]
    }
   ],
   "source": [
    "print(test_board)"
   ]
  },
  {
   "cell_type": "code",
   "execution_count": 148,
   "metadata": {},
   "outputs": [
    {
     "data": {
      "text/plain": [
       "False"
      ]
     },
     "execution_count": 148,
     "metadata": {},
     "output_type": "execute_result"
    }
   ],
   "source": [
    "win_check(test_board, 'X')"
   ]
  },
  {
   "cell_type": "code",
   "execution_count": 178,
   "metadata": {},
   "outputs": [],
   "source": [
    "import random\n",
    "# DECIDE wich player goes first\n",
    "def choose_first():\n",
    "    #\n",
    "    x = random.randint(0,100)\n",
    "\n",
    "    if x%2 == 0:\n",
    "        return 'X'\n",
    "    else:\n",
    "        return 'O'"
   ]
  },
  {
   "cell_type": "code",
   "execution_count": 183,
   "metadata": {},
   "outputs": [
    {
     "name": "stdout",
     "output_type": "stream",
     "text": [
      "76\n"
     ]
    },
    {
     "data": {
      "text/plain": [
       "'X'"
      ]
     },
     "execution_count": 183,
     "metadata": {},
     "output_type": "execute_result"
    }
   ],
   "source": [
    "choose_first()"
   ]
  },
  {
   "cell_type": "code",
   "execution_count": 184,
   "metadata": {},
   "outputs": [],
   "source": [
    "# CHECK is SPACE available in board\n",
    "def space_check(board, position):\n",
    "\n",
    "\n",
    "\n",
    "    pass"
   ]
  },
  {
   "cell_type": "code",
   "execution_count": null,
   "metadata": {},
   "outputs": [],
   "source": []
  }
 ],
 "metadata": {
  "kernelspec": {
   "display_name": "Python 3.10.5 64-bit",
   "language": "python",
   "name": "python3"
  },
  "language_info": {
   "codemirror_mode": {
    "name": "ipython",
    "version": 3
   },
   "file_extension": ".py",
   "mimetype": "text/x-python",
   "name": "python",
   "nbconvert_exporter": "python",
   "pygments_lexer": "ipython3",
   "version": "3.10.5"
  },
  "orig_nbformat": 4,
  "vscode": {
   "interpreter": {
    "hash": "5f7a044013873b01de75f7dc2befd8d09ce258ad3ae674e23e6c4d744f602738"
   }
  }
 },
 "nbformat": 4,
 "nbformat_minor": 2
}
