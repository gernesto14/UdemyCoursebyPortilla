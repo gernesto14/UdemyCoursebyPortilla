{
 "cells": [
  {
   "cell_type": "code",
   "execution_count": 33,
   "metadata": {},
   "outputs": [
    {
     "name": "stdout",
     "output_type": "stream",
     "text": [
      "* 0\n",
      "* 1\n",
      "* 2\n",
      "* 3\n",
      "* 4\n",
      "* 5\n",
      "* 6\n",
      "* 7\n",
      "* 8\n",
      "* 9\n"
     ]
    }
   ],
   "source": [
    "from re import X\n",
    "\n",
    "\n",
    "x = 0\n",
    "while x in range(0,10):\n",
    "    print('* {}'.format(x))\n",
    "    x += 1"
   ]
  },
  {
   "cell_type": "code",
   "execution_count": null,
   "metadata": {},
   "outputs": [],
   "source": []
  },
  {
   "cell_type": "code",
   "execution_count": null,
   "metadata": {},
   "outputs": [],
   "source": []
  }
 ],
 "metadata": {
  "kernelspec": {
   "display_name": "Python 3.9.0 64-bit",
   "language": "python",
   "name": "python3"
  },
  "language_info": {
   "codemirror_mode": {
    "name": "ipython",
    "version": 3
   },
   "file_extension": ".py",
   "mimetype": "text/x-python",
   "name": "python",
   "nbconvert_exporter": "python",
   "pygments_lexer": "ipython3",
   "version": "3.9.0"
  },
  "orig_nbformat": 4,
  "vscode": {
   "interpreter": {
    "hash": "0c5f8779a4bd8a8803207743098b090bbb9ea80f847fd8fe006c3feac7f2dc5a"
   }
  }
 },
 "nbformat": 4,
 "nbformat_minor": 2
}
