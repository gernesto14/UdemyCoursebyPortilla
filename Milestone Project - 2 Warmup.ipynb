{
 "cells": [
  {
   "cell_type": "code",
   "execution_count": 13,
   "metadata": {},
   "outputs": [],
   "source": [
    "# Simple War Game\n",
    "# Two players will each start off with half the deck, then they each remove a card, \n",
    "# compare which card has the highest value, and the player with \n",
    "# the higher card wins both cards. \n",
    "# In the event of a time\n",
    "\n",
    "# Logic Sketch:\n",
    "# Card\n",
    "# SUIT, RANK, VaLUE\n",
    "\n",
    "# DECK\n",
    "\n",
    "#PLAYER\n",
    "\n",
    "import random\n",
    "suits = ('Hearts', 'Diamonds', 'Spades', 'Clubs')\n",
    "ranks =ranks = ('Two', 'Three', 'Four', 'Five', 'Six', 'Seven', 'Eight', 'Nine', 'Ten', 'Jack', 'Queen', 'King', 'Ace')\n",
    "\n",
    "values = {'Two':2, 'Three':3, 'Four':4, 'Five':5, 'Six':6, 'Seven':7, 'Eight':8, \n",
    "            'Nine':9, 'Ten':10, 'Jack':11, 'Queen':12, 'King':13, 'Ace':14}"
   ]
  },
  {
   "cell_type": "code",
   "execution_count": 14,
   "metadata": {},
   "outputs": [],
   "source": [
    "class Card:\n",
    "\n",
    "    def __init__(self,suit,rank):\n",
    "        self.suit = suit\n",
    "        self.rank = rank\n",
    "        self.value = values[rank]\n",
    "    \n",
    "    def __str__(self):\n",
    "        return self.rank + ' of ' + self.suit"
   ]
  },
  {
   "cell_type": "code",
   "execution_count": 32,
   "metadata": {},
   "outputs": [],
   "source": [
    "two_hearts = Card('Hearts', 'Two')"
   ]
  },
  {
   "cell_type": "code",
   "execution_count": 33,
   "metadata": {},
   "outputs": [
    {
     "data": {
      "text/plain": [
       "<__main__.Card at 0x28ae353bf10>"
      ]
     },
     "execution_count": 33,
     "metadata": {},
     "output_type": "execute_result"
    }
   ],
   "source": [
    "two_hearts"
   ]
  },
  {
   "cell_type": "code",
   "execution_count": 34,
   "metadata": {},
   "outputs": [
    {
     "name": "stdout",
     "output_type": "stream",
     "text": [
      "Two of Hearts\n"
     ]
    }
   ],
   "source": [
    "print(two_hearts)"
   ]
  },
  {
   "cell_type": "code",
   "execution_count": 35,
   "metadata": {},
   "outputs": [
    {
     "data": {
      "text/plain": [
       "'Hearts'"
      ]
     },
     "execution_count": 35,
     "metadata": {},
     "output_type": "execute_result"
    }
   ],
   "source": [
    "two_hearts.suit"
   ]
  },
  {
   "cell_type": "code",
   "execution_count": 36,
   "metadata": {},
   "outputs": [
    {
     "data": {
      "text/plain": [
       "'Two'"
      ]
     },
     "execution_count": 36,
     "metadata": {},
     "output_type": "execute_result"
    }
   ],
   "source": [
    "two_hearts.rank"
   ]
  },
  {
   "cell_type": "code",
   "execution_count": 37,
   "metadata": {},
   "outputs": [
    {
     "data": {
      "text/plain": [
       "2"
      ]
     },
     "execution_count": 37,
     "metadata": {},
     "output_type": "execute_result"
    }
   ],
   "source": [
    "values[two_hearts.rank]"
   ]
  },
  {
   "cell_type": "code",
   "execution_count": 29,
   "metadata": {},
   "outputs": [],
   "source": [
    "three_of_clubs = Card('Clubs','Three')"
   ]
  },
  {
   "cell_type": "code",
   "execution_count": 30,
   "metadata": {},
   "outputs": [
    {
     "data": {
      "text/plain": [
       "3"
      ]
     },
     "execution_count": 30,
     "metadata": {},
     "output_type": "execute_result"
    }
   ],
   "source": [
    "three_of_clubs.value"
   ]
  },
  {
   "cell_type": "code",
   "execution_count": 38,
   "metadata": {},
   "outputs": [
    {
     "data": {
      "text/plain": [
       "True"
      ]
     },
     "execution_count": 38,
     "metadata": {},
     "output_type": "execute_result"
    }
   ],
   "source": [
    "two_hearts.value < three_of_clubs.value"
   ]
  },
  {
   "cell_type": "code",
   "execution_count": 75,
   "metadata": {},
   "outputs": [],
   "source": [
    "# Create Deck class\n",
    "class Deck():\n",
    "\n",
    "    def __init__ (self):\n",
    "        #Create list for all cards\n",
    "        self.all_cards = []\n",
    "\n",
    "        #Loop thru every suit\n",
    "        for suit in suits:\n",
    "            #Loop for every rank then\n",
    "            for rank in ranks:\n",
    "                #Create the Card Object for each suit and rank\n",
    "                created_card = Card(suit,rank)\n",
    "                #Store every Card Object into the list\n",
    "                self.all_cards.append(created_card)\n",
    "\n",
    "    #Shuffle all cards\n",
    "    def shuffle(self):\n",
    "\n",
    "        random.shuffle(self.all_cards)\n",
    "\n",
    "    #Return a single card\n",
    "    def deal_one(self):\n",
    "        return self.all_cards.pop()"
   ]
  },
  {
   "cell_type": "code",
   "execution_count": 17,
   "metadata": {},
   "outputs": [],
   "source": [
    "new_deck = Deck()"
   ]
  },
  {
   "cell_type": "code",
   "execution_count": 19,
   "metadata": {},
   "outputs": [
    {
     "name": "stdout",
     "output_type": "stream",
     "text": [
      "[<__main__.Card object at 0x0000028F0DF5F4C0>, <__main__.Card object at 0x0000028F0DF5E5C0>, <__main__.Card object at 0x0000028F0DF5DF90>, <__main__.Card object at 0x0000028F0DF5E260>, <__main__.Card object at 0x0000028F0DF5D180>, <__main__.Card object at 0x0000028F0DF5F7F0>, <__main__.Card object at 0x0000028F0DF5C850>, <__main__.Card object at 0x0000028F0DF5F2B0>, <__main__.Card object at 0x0000028F0DF5E7D0>, <__main__.Card object at 0x0000028F0DF5E7A0>, <__main__.Card object at 0x0000028F0DF5E710>, <__main__.Card object at 0x0000028F0DF5E920>, <__main__.Card object at 0x0000028F0DF5E8F0>, <__main__.Card object at 0x0000028F0DF5E620>, <__main__.Card object at 0x0000028F0DF5F6D0>, <__main__.Card object at 0x0000028F0DF5D360>, <__main__.Card object at 0x0000028F0DF5E1A0>, <__main__.Card object at 0x0000028F0DF5ED70>, <__main__.Card object at 0x0000028F0DF5E650>, <__main__.Card object at 0x0000028F0DF5F610>, <__main__.Card object at 0x0000028F0DF5DFF0>, <__main__.Card object at 0x0000028F0DF5E050>, <__main__.Card object at 0x0000028F0DF5EAA0>, <__main__.Card object at 0x0000028F0DF5EBC0>, <__main__.Card object at 0x0000028F0DF5F1F0>, <__main__.Card object at 0x0000028F0DF5E830>, <__main__.Card object at 0x0000028F0DF5ECB0>, <__main__.Card object at 0x0000028F0DF5E9B0>, <__main__.Card object at 0x0000028F0DF5DE70>, <__main__.Card object at 0x0000028F0DF5E230>, <__main__.Card object at 0x0000028F0DF5E890>, <__main__.Card object at 0x0000028F0DF5EC80>, <__main__.Card object at 0x0000028F0DF5E0E0>, <__main__.Card object at 0x0000028F0DF5F670>, <__main__.Card object at 0x0000028F0E0DE020>, <__main__.Card object at 0x0000028F0E0DD120>, <__main__.Card object at 0x0000028F0E0DCAC0>, <__main__.Card object at 0x0000028F0E1369B0>, <__main__.Card object at 0x0000028F0E137610>, <__main__.Card object at 0x0000028F0E134DC0>, <__main__.Card object at 0x0000028F0DF4A9B0>, <__main__.Card object at 0x0000028F0DF4A800>, <__main__.Card object at 0x0000028F0DF4A440>, <__main__.Card object at 0x0000028F0DF480A0>, <__main__.Card object at 0x0000028F0DF4BC40>, <__main__.Card object at 0x0000028F0DF4A3E0>, <__main__.Card object at 0x0000028F0DF4A2F0>, <__main__.Card object at 0x0000028F0DF4ABC0>, <__main__.Card object at 0x0000028F0DF4A8F0>, <__main__.Card object at 0x0000028F0DF49F60>, <__main__.Card object at 0x0000028F0DF4AA40>, <__main__.Card object at 0x0000028F0DF4A6B0>]\n"
     ]
    }
   ],
   "source": [
    "print(new_deck.all_cards)"
   ]
  },
  {
   "cell_type": "code",
   "execution_count": 48,
   "metadata": {},
   "outputs": [],
   "source": [
    "first_card = new_deck.all_cards[0]"
   ]
  },
  {
   "cell_type": "code",
   "execution_count": 49,
   "metadata": {},
   "outputs": [
    {
     "name": "stdout",
     "output_type": "stream",
     "text": [
      "Two of Hearts\n"
     ]
    }
   ],
   "source": [
    "print(first_card)"
   ]
  },
  {
   "cell_type": "code",
   "execution_count": 38,
   "metadata": {},
   "outputs": [],
   "source": [
    "mylist = [1,2,3,4,5]\n"
   ]
  },
  {
   "cell_type": "code",
   "execution_count": 39,
   "metadata": {},
   "outputs": [
    {
     "name": "stdout",
     "output_type": "stream",
     "text": [
      "[1, 2, 3, 4, 5]\n"
     ]
    }
   ],
   "source": [
    "print(mylist)"
   ]
  },
  {
   "cell_type": "code",
   "execution_count": 40,
   "metadata": {},
   "outputs": [],
   "source": [
    "random.shuffle(mylist)"
   ]
  },
  {
   "cell_type": "code",
   "execution_count": 41,
   "metadata": {},
   "outputs": [
    {
     "name": "stdout",
     "output_type": "stream",
     "text": [
      "[1, 5, 2, 4, 3]\n"
     ]
    }
   ],
   "source": [
    "print(mylist)"
   ]
  },
  {
   "cell_type": "code",
   "execution_count": 77,
   "metadata": {},
   "outputs": [],
   "source": [
    "new_deck = Deck()"
   ]
  },
  {
   "cell_type": "code",
   "execution_count": 78,
   "metadata": {},
   "outputs": [],
   "source": [
    "new_deck.shuffle()"
   ]
  },
  {
   "cell_type": "code",
   "execution_count": 79,
   "metadata": {},
   "outputs": [],
   "source": [
    "first_card = new_deck.all_cards[0]"
   ]
  },
  {
   "cell_type": "code",
   "execution_count": 80,
   "metadata": {},
   "outputs": [
    {
     "name": "stdout",
     "output_type": "stream",
     "text": [
      "Queen of Diamonds\n"
     ]
    }
   ],
   "source": [
    "print(first_card)"
   ]
  },
  {
   "cell_type": "code",
   "execution_count": 92,
   "metadata": {},
   "outputs": [],
   "source": [
    "my_card = new_deck.deal_one()"
   ]
  },
  {
   "cell_type": "code",
   "execution_count": 93,
   "metadata": {},
   "outputs": [
    {
     "name": "stdout",
     "output_type": "stream",
     "text": [
      "Six of Spades\n"
     ]
    }
   ],
   "source": [
    "print(my_card)"
   ]
  },
  {
   "cell_type": "code",
   "execution_count": 94,
   "metadata": {},
   "outputs": [
    {
     "name": "stdout",
     "output_type": "stream",
     "text": [
      "[<__main__.Card object at 0x0000028F0DFA91B0>, <__main__.Card object at 0x0000028F0DFAB010>, <__main__.Card object at 0x0000028F0DFA9F90>, <__main__.Card object at 0x0000028F0DFA9D50>, <__main__.Card object at 0x0000028F0DFAA3B0>, <__main__.Card object at 0x0000028F0DFA9AB0>, <__main__.Card object at 0x0000028F0DFA9DB0>, <__main__.Card object at 0x0000028F0DFAB0A0>, <__main__.Card object at 0x0000028F0DFAAB90>, <__main__.Card object at 0x0000028F0DFA8DC0>, <__main__.Card object at 0x0000028F0DFAA020>, <__main__.Card object at 0x0000028F0DFAA560>, <__main__.Card object at 0x0000028F0DFAAD10>, <__main__.Card object at 0x0000028F0DFA9A20>, <__main__.Card object at 0x0000028F0DFAA0E0>, <__main__.Card object at 0x0000028F0DFAA980>, <__main__.Card object at 0x0000028F0DFAA290>, <__main__.Card object at 0x0000028F0DFA9CF0>, <__main__.Card object at 0x0000028F0DFAA4D0>, <__main__.Card object at 0x0000028F0DFA9630>, <__main__.Card object at 0x0000028F0DFAAC50>, <__main__.Card object at 0x0000028F0DFA9B10>, <__main__.Card object at 0x0000028F0DFAA380>, <__main__.Card object at 0x0000028F0DFAA9B0>, <__main__.Card object at 0x0000028F0DFA8F70>, <__main__.Card object at 0x0000028F0DFA9900>, <__main__.Card object at 0x0000028F0DFAA2F0>, <__main__.Card object at 0x0000028F0DFAA500>, <__main__.Card object at 0x0000028F0DFA9690>, <__main__.Card object at 0x0000028F0DFA9AE0>, <__main__.Card object at 0x0000028F0DFAA200>, <__main__.Card object at 0x0000028F0DFA9180>, <__main__.Card object at 0x0000028F0DFAA320>, <__main__.Card object at 0x0000028F0DFAAAD0>, <__main__.Card object at 0x0000028F0DFAAB60>, <__main__.Card object at 0x0000028F0DFA9930>, <__main__.Card object at 0x0000028F0DFA91E0>, <__main__.Card object at 0x0000028F0DFA9E70>, <__main__.Card object at 0x0000028F0DFAAEC0>, <__main__.Card object at 0x0000028F0DFAA860>, <__main__.Card object at 0x0000028F0DFA9E10>, <__main__.Card object at 0x0000028F0DFAA650>, <__main__.Card object at 0x0000028F0DFA9CC0>, <__main__.Card object at 0x0000028F0DFAAAA0>, <__main__.Card object at 0x0000028F0DFAA140>, <__main__.Card object at 0x0000028F0DFA9960>, <__main__.Card object at 0x0000028F0DFAA8C0>, <__main__.Card object at 0x0000028F0DFAA110>]\n"
     ]
    }
   ],
   "source": [
    "print(new_deck.all_cards)"
   ]
  },
  {
   "cell_type": "code",
   "execution_count": null,
   "metadata": {},
   "outputs": [],
   "source": []
  }
 ],
 "metadata": {
  "kernelspec": {
   "display_name": "Python 3.10.8 64-bit",
   "language": "python",
   "name": "python3"
  },
  "language_info": {
   "codemirror_mode": {
    "name": "ipython",
    "version": 3
   },
   "file_extension": ".py",
   "mimetype": "text/x-python",
   "name": "python",
   "nbconvert_exporter": "python",
   "pygments_lexer": "ipython3",
   "version": "3.10.8"
  },
  "orig_nbformat": 4,
  "vscode": {
   "interpreter": {
    "hash": "5f7a044013873b01de75f7dc2befd8d09ce258ad3ae674e23e6c4d744f602738"
   }
  }
 },
 "nbformat": 4,
 "nbformat_minor": 2
}
