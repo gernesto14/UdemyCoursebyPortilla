{
 "cells": [
  {
   "cell_type": "code",
   "execution_count": 1,
   "metadata": {},
   "outputs": [],
   "source": [
    "# For this challenge, create a bank account class that has two attributes:\n",
    "\n",
    "# owner\n",
    "# balance\n",
    "# and two methods:\n",
    "# deposit\n",
    "# withdraw\n",
    "\n",
    "# As an added requirement, withdrawals may not exceed the available balance.\n",
    "\n",
    "# Instantiate your class, make several deposits and withdrawals, and \n",
    "# test to make sure the account can't be overdrawn."
   ]
  },
  {
   "cell_type": "code",
   "execution_count": 50,
   "metadata": {},
   "outputs": [],
   "source": [
    "class Account:\n",
    "    # Name and account balance\n",
    "    def __init__(self,owner='Ernesto',balance=15000):\n",
    "        self.owner = owner\n",
    "        self.balance = balance\n",
    "\n",
    "        print('Account owner: {}'.format(self.owner))\n",
    "        print('Account balance: {}'.format(self.balance))\n",
    "    \n",
    "    def deposit(self,deposit):\n",
    "        self.balance = self.balance + deposit\n",
    "        print('Deposit Accepted')\n",
    "        print('New balance is: {}'.format(self.balance))\n",
    "\n",
    "    def withdrawal(self,withdraw):\n",
    "        if withdraw <= self.balance:\n",
    "            self.balance = self.balance - withdraw\n",
    "            print('Withrawal Accepted')\n",
    "            print('New balance is: {}'.format(self.balance))\n",
    "        else:\n",
    "            print('Funds Unavailable!')\n",
    "            print('Available balance of: {}'.format(self.balance))"
   ]
  },
  {
   "cell_type": "code",
   "execution_count": 53,
   "metadata": {},
   "outputs": [
    {
     "name": "stdout",
     "output_type": "stream",
     "text": [
      "Account owner: Ernesto\n",
      "Account balance: 15000\n"
     ]
    }
   ],
   "source": [
    "acct1 = Account()"
   ]
  },
  {
   "cell_type": "code",
   "execution_count": 54,
   "metadata": {},
   "outputs": [
    {
     "data": {
      "text/plain": [
       "'Ernesto'"
      ]
     },
     "execution_count": 54,
     "metadata": {},
     "output_type": "execute_result"
    }
   ],
   "source": [
    "acct1.owner"
   ]
  },
  {
   "cell_type": "code",
   "execution_count": 55,
   "metadata": {},
   "outputs": [
    {
     "data": {
      "text/plain": [
       "15000"
      ]
     },
     "execution_count": 55,
     "metadata": {},
     "output_type": "execute_result"
    }
   ],
   "source": [
    "acct1.balance"
   ]
  },
  {
   "cell_type": "code",
   "execution_count": 56,
   "metadata": {},
   "outputs": [
    {
     "data": {
      "text/plain": [
       "15000"
      ]
     },
     "execution_count": 56,
     "metadata": {},
     "output_type": "execute_result"
    }
   ],
   "source": [
    "acct1.balance"
   ]
  },
  {
   "cell_type": "code",
   "execution_count": 57,
   "metadata": {},
   "outputs": [
    {
     "name": "stdout",
     "output_type": "stream",
     "text": [
      "Deposit Accepted\n",
      "New balance is: 16000\n"
     ]
    }
   ],
   "source": [
    "acct1.deposit(1000)"
   ]
  },
  {
   "cell_type": "code",
   "execution_count": 58,
   "metadata": {},
   "outputs": [
    {
     "name": "stdout",
     "output_type": "stream",
     "text": [
      "Withrawal Accepted\n",
      "New balance is: 15250\n"
     ]
    }
   ],
   "source": [
    "acct1.withdrawal(750)"
   ]
  },
  {
   "cell_type": "code",
   "execution_count": 59,
   "metadata": {},
   "outputs": [
    {
     "name": "stdout",
     "output_type": "stream",
     "text": [
      "Funds Unavailable!\n",
      "Available balance of: 15250\n"
     ]
    }
   ],
   "source": [
    "acct1.withdrawal(17500)"
   ]
  }
 ],
 "metadata": {
  "kernelspec": {
   "display_name": "Python 3.10.5 64-bit",
   "language": "python",
   "name": "python3"
  },
  "language_info": {
   "codemirror_mode": {
    "name": "ipython",
    "version": 3
   },
   "file_extension": ".py",
   "mimetype": "text/x-python",
   "name": "python",
   "nbconvert_exporter": "python",
   "pygments_lexer": "ipython3",
   "version": "3.10.5"
  },
  "orig_nbformat": 4,
  "vscode": {
   "interpreter": {
    "hash": "5f7a044013873b01de75f7dc2befd8d09ce258ad3ae674e23e6c4d744f602738"
   }
  }
 },
 "nbformat": 4,
 "nbformat_minor": 2
}
