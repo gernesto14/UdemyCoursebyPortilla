{
 "cells": [
  {
   "cell_type": "code",
   "execution_count": 1,
   "metadata": {},
   "outputs": [],
   "source": [
    "def display_list(mylist):\n",
    "    print(mylist)"
   ]
  },
  {
   "cell_type": "code",
   "execution_count": 2,
   "metadata": {},
   "outputs": [
    {
     "name": "stdout",
     "output_type": "stream",
     "text": [
      "[0, 1, 2, 3, 4, 5, 6, 7, 8, 9, 10]\n"
     ]
    }
   ],
   "source": [
    "mylist = [0,1,2,3,4,5,6,7,8,9,10]\n",
    "display_list(mylist)"
   ]
  },
  {
   "cell_type": "code",
   "execution_count": 1,
   "metadata": {},
   "outputs": [],
   "source": [
    "from IPython.display import clear_output\n",
    "clear_output()\n",
    "def user_choice():\n",
    "    # Loop user input\n",
    "    choice = 'wrong'\n",
    "\n",
    "    while True:\n",
    "        # Check for correct input\n",
    "        try:\n",
    "            choice = int(input('Choose one of these numbers (0,1,2): '))\n",
    "            # Check input within range(0-9)\n",
    "            if choice not in [0,1,2]:\n",
    "                continue #Continue if not correct choice\n",
    "        except ValueError:\n",
    "            print('Sorry, but you did not choose a value in the correct range (0,1,2)')\n",
    "        else:\n",
    "            # Clear output error message and return value\n",
    "            clear_output()\n",
    "            return choice\n",
    "    "
   ]
  },
  {
   "cell_type": "code",
   "execution_count": 2,
   "metadata": {},
   "outputs": [],
   "source": [
    "game_list = [0,1,2]\n"
   ]
  },
  {
   "cell_type": "code",
   "execution_count": 3,
   "metadata": {},
   "outputs": [],
   "source": [
    "def display_game(game_list):\n",
    "    print('Heres is the current list')\n",
    "    print(game_list)"
   ]
  },
  {
   "cell_type": "code",
   "execution_count": 4,
   "metadata": {},
   "outputs": [],
   "source": [
    "# This function to get user choice position\n",
    "def position_choice():\n",
    "    choice = 'wrong' \n",
    "\n",
    "    while choice not in [0,1,2]:\n",
    "        try:\n",
    "            # Ask for input to be int\n",
    "            choice = int(input(\"Pick a position to replace (0,1,2): \"))\n",
    "            # Check for input within range\n",
    "            if choice not in [0,1,2]:\n",
    "                print('Please choose position (0,1,2)')\n",
    "                continue\n",
    "        except:\n",
    "            print('Sorry, but you did not choose a valid position (0,1,2) ')\n",
    "        else:\n",
    "            # Clear everything after runing the func\n",
    "            clear_output()\n",
    "            return choice\n"
   ]
  },
  {
   "cell_type": "code",
   "execution_count": null,
   "metadata": {},
   "outputs": [],
   "source": [
    "# Update user\n",
    "def replacement_choice(game_list,position)"
   ]
  }
 ],
 "metadata": {
  "kernelspec": {
   "display_name": "Python 3.10.5 64-bit",
   "language": "python",
   "name": "python3"
  },
  "language_info": {
   "codemirror_mode": {
    "name": "ipython",
    "version": 3
   },
   "file_extension": ".py",
   "mimetype": "text/x-python",
   "name": "python",
   "nbconvert_exporter": "python",
   "pygments_lexer": "ipython3",
   "version": "3.10.5"
  },
  "orig_nbformat": 4,
  "vscode": {
   "interpreter": {
    "hash": "5f7a044013873b01de75f7dc2befd8d09ce258ad3ae674e23e6c4d744f602738"
   }
  }
 },
 "nbformat": 4,
 "nbformat_minor": 2
}
